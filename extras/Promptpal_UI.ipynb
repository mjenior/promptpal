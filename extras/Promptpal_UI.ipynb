{
 "cells": [
  {
   "cell_type": "markdown",
   "id": "441f5631-df90-4247-a8cc-f0afd1317bd6",
   "metadata": {},
   "source": [
    "# Promptpal UI\n",
    "\n",
    "The promptpal UI can be used to help refine prompts. \n",
    "\n",
    "### Instructions\n",
    "\n",
    "Enter your initial prompt into the \"Prompt\" text field. Select a refinement method then click \"Refine Prompt\". An updated prompt will then show up in the \"Refined Prompt\" text field. You can then manually adjust the Refined prompt and select \"Update Prompt\" to make it the new base prompt, ready for additional refinement. At any time you can select \"Get Advice\" which will offer assistance on how the prompt could be improved. Continue until you are satisfied with the prompt. \n",
    "\n",
    "You can use the \"clear\" button to reset everything and start refining a new prompt.\n"
   ]
  },
  {
   "cell_type": "code",
   "execution_count": null,
   "id": "a1cfe79e-828d-48e2-8f18-165b9821dc20",
   "metadata": {},
   "outputs": [],
   "source": [
    "# For Local Development\n",
    "!pip install -e ../."
   ]
  },
  {
   "cell_type": "code",
   "execution_count": 1,
   "id": "3da37b79-d312-467f-a883-ac91088e009a",
   "metadata": {},
   "outputs": [
    {
     "data": {
      "application/vnd.jupyter.widget-view+json": {
       "model_id": "2c51874a3f20452c926a8eaaf489614e",
       "version_major": 2,
       "version_minor": 0
      },
      "text/plain": [
       "Box(children=(VBox(children=(HBox(children=(VBox(children=(Label(value='Refinement Method'), RadioButtons(layo…"
      ]
     },
     "metadata": {},
     "output_type": "display_data"
    }
   ],
   "source": [
    "from promptpal import PromptpalUI\n",
    "pal_ui = PromptpalUI(vertexai=False)"
   ]
  },
  {
   "cell_type": "code",
   "execution_count": null,
   "id": "a019092b-5aa2-4cbb-87c7-cecac5e984b0",
   "metadata": {},
   "outputs": [],
   "source": []
  }
 ],
 "metadata": {
  "kernelspec": {
   "display_name": "Python 3 (ipykernel)",
   "language": "python",
   "name": "python3"
  },
  "language_info": {
   "codemirror_mode": {
    "name": "ipython",
    "version": 3
   },
   "file_extension": ".py",
   "mimetype": "text/x-python",
   "name": "python",
   "nbconvert_exporter": "python",
   "pygments_lexer": "ipython3",
   "version": "3.12.7"
  }
 },
 "nbformat": 4,
 "nbformat_minor": 5
}
